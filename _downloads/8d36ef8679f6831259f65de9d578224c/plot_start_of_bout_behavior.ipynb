{
  "cells": [
    {
      "cell_type": "code",
      "execution_count": null,
      "metadata": {
        "collapsed": false
      },
      "outputs": [],
      "source": [
        "%matplotlib inline"
      ]
    },
    {
      "cell_type": "markdown",
      "metadata": {},
      "source": [
        "\nGet the First Syllable of Bout (Bout Duration greater than 1)\n=============================================================\n\nThis example shows how to use the contextual labels to get specific event times\n"
      ]
    },
    {
      "cell_type": "code",
      "execution_count": null,
      "metadata": {
        "collapsed": false
      },
      "outputs": [],
      "source": [
        "from BirdSongToolbox.import_data import ImportData\nimport BirdSongToolbox.free_epoch_tools as fet\nfrom BirdSongToolbox.context_hand_labeling import ContextLabels, label_focus_context\nfrom BirdSongToolbox.behave.behave_utils import event_array_maker_chunk, get_events_rasters, repeat_events\n\nimport matplotlib\nimport matplotlib.pyplot as plt\nimport numpy as np\nfrom pathlib import Path\nimport inspect"
      ]
    },
    {
      "cell_type": "markdown",
      "metadata": {},
      "source": [
        "Basic Workflow\n--------------\n\nWhen using BirdSongToolbox you will need to have data in which you want to work on\n\nAlthough not required, it is convenient to use the Import Classes to import properly formated\nderived data this way you can guarantee that you have all of the data and meta data needed and\nthat it is all synchronized with each other\n\nAs this example assumes that you have not yet configured BirdSongToolbox to automatically know\nwhere to look for data we will go through the optional step of telling the toolbox where we\nwould like it to impor from. In this case we will import data used for testing the package.\n(Don't worry about this if you are unfamiliar with pytest)\n\n\n"
      ]
    },
    {
      "cell_type": "code",
      "execution_count": null,
      "metadata": {
        "collapsed": false
      },
      "outputs": [],
      "source": [
        "# Select bird_id and session\nbird_id = 'z007'\nsession = 'day-2016-09-09'"
      ]
    },
    {
      "cell_type": "code",
      "execution_count": null,
      "metadata": {
        "collapsed": false
      },
      "outputs": [],
      "source": [
        "src_file_path = inspect.getfile(lambda: None)\nproject_dir = Path(src_file_path).resolve().parents[1]\nprint(project_dir)\ndata_dir = project_dir / \"BirdSongToolbox\" / \"data\" / \"Chunk_Data_Demo\"\n\n# Import Data\nzdata = ImportData(bird_id=bird_id, session=session, location=data_dir)"
      ]
    },
    {
      "cell_type": "markdown",
      "metadata": {},
      "source": [
        "Select Male Specific ContextLabel\n---------------------------------\n\nBirdSongToolbox assumes that your behavioral labels are a group of three lists that correspond\nto the start, end, and label of the vocalizations during a period of time. However, the Chunked\nDataformat has multiple tiers of information that include your main subjects behavior, other\nco-occuring noise, and experimental peridigm metadata. For this reason there is a convenience\nfunction for converting the Chunked data behavioral data into the simple list structure.\n\nIf you are using behavioral data in a different format you will need to convert them into two\nlists:\n  - chunk_labels_list\n  - chunk_onsets_list\n\n  - labels_list : list\n    list of labels for all epochs for one day\n        [Chunks] -> [Labels]\n  - onsets_list : list\n    list of start and end times for all labels for one day\n        [[Chunks]->[Start Time] , [Chunks]->[End Time]]\n\n\n"
      ]
    },
    {
      "cell_type": "markdown",
      "metadata": {},
      "source": [
        "Reshape Handlabels into Useful Format\n\n"
      ]
    },
    {
      "cell_type": "code",
      "execution_count": null,
      "metadata": {
        "collapsed": false
      },
      "outputs": [],
      "source": [
        "chunk_labels_list, chunk_onsets_list = fet.get_chunk_handlabels(handlabels_list=zdata.song_handlabels)"
      ]
    },
    {
      "cell_type": "markdown",
      "metadata": {},
      "source": [
        "Contextual Labels of Behavior\n-----------------------------\n\nOne of the major uses of BirdSongToolbox is to add additional labels on top of behavioral\nlabels. These additional labels can bee used to contextually sub-select labels based on their\nidentity and context. To do this you must first initiate a `ContextLabels` instance that is\nconfigured to your specific birds behavior. To do this you need three parameters that carry\nkey information about the birds song structure.\n\n*Note:* In the future I plan to have multiple child class that will be based on the structure\nof each songbird species structure, but at present the primary class is based on zebra finch song.\n\nThese parameters are as follows:\n\n  - bout_states : dict\n    dictionary of all labels used for specified bird and their context for vocal behavior\n    value for each label can either be 'not' or 'bout' signifying that it is part of the\n    bout or not\n  - bout_transitions : dict\n    dictionary of the transition label for each state (bout & not) the transition label is\n    indicative of the label that signifies that you have transitioned away from your current state\n    Example:\n        using the configuration used in the code block below *1* would be the transition away\n        from the state *not* being a bout:\n        labels: [8, 'I', 8, 'I', 1, 7, 1, 3, 7, 4, 8]\n        state: ['not', 'not', 'not', 'not', 'bout', 'bout', 'bout', 'bout', 'bout', 'bout','not']\n  - full_bout_length : int\n    Last syllable of the stereotyped portion of the Motif (Not the Intra-Motif note)\n\n\n"
      ]
    },
    {
      "cell_type": "code",
      "execution_count": null,
      "metadata": {
        "collapsed": false
      },
      "outputs": [],
      "source": [
        "# Initialize and configure instance of ContextLabels object\nbout_states = {'BUFFER': 'not', 'X': 'not', 8: 'not', 'I': 'not', 'C': 'not', 1: 'bout', 2: 'bout', 3: 'bout',\n               4: 'bout', 5: 'bout', 6: 'bout', 7: 'bout', 9: 'bout'}\n\nbout_transitions = {'not': 1, 'bout': 8}\n\nfull_bout_length = 5\n\ntestclass = ContextLabels(bout_states, bout_transitions, full_bout_length)"
      ]
    },
    {
      "cell_type": "code",
      "execution_count": null,
      "metadata": {
        "collapsed": false
      },
      "outputs": [],
      "source": [
        "# Get the Context Array for the Day's Data\n\ntest_context = testclass.get_all_context_index_arrays(chunk_labels_list)"
      ]
    },
    {
      "cell_type": "markdown",
      "metadata": {},
      "source": [
        "Select Behavior using Contextual Information\n--------------------------------------------\n\nNow that you have contextual labels for your behavioral labels you can begin to sub-select\nthem using boolean operation. The easiest way to do this is to make a one line function\nand passing it into the `label_focus_context` helper function in BirdSongToolbox. To do\nthis it helps to know the structure of the basic version of the contextual labels.\n\n  - contextual array : array | (labels, 4)\n        Array of context labels for one Epoch(Chunk).\n        columns: (Motif Sequence in Bout, First Motif (1-hot), Last Motif (1-hot), Last Syllable Dropped (1-hot))\n\nDefine Rules for Contextual Selection\n~~~~~~~~~~~~~~~~~~~~~~~~~~~~~~~~~~~~~\nNow you must define a Function that evaulates labels based on the Context Specified.\nWalking through the logic of the function below:\n\nHere we are trying to find syllables that occur during the First Motif in the bout,\nhowever we only want bouts that have at least two motifs in them.\n\nThis translates to the follow rules:\n    - [1] 1 in the second column (Meaning the syllable occurs during the first Motif of the Bout)\n    - [2] 0 in the third column (Meaning the syllable does not occur during the last motif of the bout).\nThis ensures that any label selected will be in motif that isn't both the first and last motif of the bout.\nHowever, the syllable will occur during the motif that starts a bout\n\n"
      ]
    },
    {
      "cell_type": "code",
      "execution_count": null,
      "metadata": {
        "collapsed": false
      },
      "outputs": [],
      "source": [
        "# Define a context based on the boolean structure of the contextual labels\ndef first_context_example(order, first, last, ls_drop):\n    return first == 1 and last == 0"
      ]
    },
    {
      "cell_type": "code",
      "execution_count": null,
      "metadata": {
        "collapsed": false
      },
      "outputs": [],
      "source": [
        "# Select Labels Using Flexible Context Selection\nfirst_syll = label_focus_context(focus=1, labels=chunk_labels_list, starts=chunk_onsets_list[0], contexts=test_context,\n                                 context_func=first_context_example)"
      ]
    },
    {
      "cell_type": "code",
      "execution_count": null,
      "metadata": {
        "collapsed": false
      },
      "outputs": [],
      "source": [
        "# Set the Context Windows\n\nfirst_window = (-500, 800)"
      ]
    },
    {
      "cell_type": "code",
      "execution_count": null,
      "metadata": {
        "collapsed": false
      },
      "outputs": [],
      "source": [
        "# # Clip around Events of Interest\n# all_firsts = fet.get_event_related_nd_chunk(chunk_data=proc_data, chunk_indices=first_syll,\n#                                         fs=1000, window=first_window )"
      ]
    },
    {
      "cell_type": "code",
      "execution_count": null,
      "metadata": {
        "collapsed": false
      },
      "outputs": [],
      "source": [
        "# all_firsts = fet.event_shape_correction(all_firsts, original_dim=3)\n#\n# print(np.shape(all_firsts))"
      ]
    },
    {
      "cell_type": "code",
      "execution_count": null,
      "metadata": {
        "collapsed": false
      },
      "outputs": [],
      "source": [
        "first_event_times = fet.make_event_times_axis(first_window, fs=1000)"
      ]
    },
    {
      "cell_type": "code",
      "execution_count": null,
      "metadata": {
        "collapsed": false
      },
      "outputs": [],
      "source": [
        "# Create timeseries representing the labeled Events For all Chunks\nevent_array_test2 = event_array_maker_chunk(labels_list=chunk_labels_list, onsets_list=chunk_onsets_list)"
      ]
    },
    {
      "cell_type": "code",
      "execution_count": null,
      "metadata": {
        "collapsed": false
      },
      "outputs": [],
      "source": [
        "first_events = get_events_rasters(data=event_array_test2, indices=first_syll, fs=1000, window=first_window)\nfill_events_first = repeat_events(first_events)"
      ]
    },
    {
      "cell_type": "markdown",
      "metadata": {},
      "source": [
        "This will need to wrapped into BirdSongToolbox in a more flexible and modular way\n\n\n"
      ]
    },
    {
      "cell_type": "code",
      "execution_count": null,
      "metadata": {
        "collapsed": false
      },
      "outputs": [],
      "source": [
        "def plot_behavior_test(fill_events_context, context_event_times, context_events, ax=None):\n    # Setup the Colorbar\n\n    cmap2 = matplotlib.colors.ListedColormap(\n        ['#000000', '#B66DFF', '#db6e00', '#009292', '#924900', '#006DDB', '#B6DBFF', 'white', '#feb4d9', '#490092'])\n    cmap2.set_over('cyan')\n    cmap2.set_under('#B6DBFF')\n\n    bounds = [.5, 1.5, 2.5, 3.5, 4.5, 5.5, 6.5, 7.5, 8.5, 9.5, 10.5]\n    norm = matplotlib.colors.BoundaryNorm(bounds, cmap2.N)\n\n    # PlotBehavior Raster\n    num_events = context_events.shape[0]\n    max_len = fill_events_context.shape[0]\n    bin_width = (max_len) / (num_events)\n    y_labels = np.arange(0, num_events, 5, dtype=int)\n    y_steps = np.linspace(0, y_labels[-1] * bin_width, len(y_labels), dtype=int)\n    y_steps[1:] = y_steps[1:] - int(bin_width / 2)\n\n    if ax is None:\n        plt.imshow(fill_events_context, cmap=cmap2, Norm=norm, aspect=\"auto\")\n        plt.yticks(ticks=y_steps[1:], labels=y_labels[1:])\n        plt.ylim(0, max_len)\n\n    else:\n        ax.imshow(fill_events_context, cmap=cmap2, Norm=norm, aspect=\"auto\")\n        ax.set_yticks(y_steps[1:])\n        ax.set_yticklabels(y_labels[1:])\n        ax.set_ylim(0, max_len)\n        ax.set_xticks([])"
      ]
    },
    {
      "cell_type": "code",
      "execution_count": null,
      "metadata": {
        "collapsed": false
      },
      "outputs": [],
      "source": [
        "# Plot First Behavior Raster\nplot_behavior_test(fill_events_context=fill_events_first, context_event_times=first_event_times,\n                   context_events=first_events)\n\n# ax[0].set_title(label=\"Start of Bout\", fontsize=bigsize)\n# ax[0].set_ylabel(ylabel='Bout #', fontsize=subsize)\n# ax[0].tick_params(axis='both', which='major', labelsize=ticksize)\n\n###############################################################################"
      ]
    }
  ],
  "metadata": {
    "kernelspec": {
      "display_name": "Python 3",
      "language": "python",
      "name": "python3"
    },
    "language_info": {
      "codemirror_mode": {
        "name": "ipython",
        "version": 3
      },
      "file_extension": ".py",
      "mimetype": "text/x-python",
      "name": "python",
      "nbconvert_exporter": "python",
      "pygments_lexer": "ipython3",
      "version": "3.7.4"
    }
  },
  "nbformat": 4,
  "nbformat_minor": 0
}